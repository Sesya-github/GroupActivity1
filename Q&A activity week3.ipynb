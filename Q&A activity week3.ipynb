{
 "cells": [
  {
   "cell_type": "markdown",
   "metadata": {
    "id": "4z_Z-K1tlrS7"
   },
   "source": [
    "## 1. Complete the following code to find the area of an equilateral triangle. Output should be as displayed"
   ]
  },
  {
   "cell_type": "code",
   "execution_count": null,
   "metadata": {
    "id": "rP2qFD_SlrS_"
   },
   "outputs": [],
   "source": [
    "import math\n",
    "side = float(input(\"Enter the side of the equilateral triangle: \"))\n",
    "area = ((math.sqrt(3))/4)*pow(side,2)\n"
   ]
  },
  {
   "cell_type": "code",
   "execution_count": 1,
   "metadata": {},
   "outputs": [
    {
     "name": "stdout",
     "output_type": "stream",
     "text": [
      "Enter the side of the equilateral triangle: 5\n",
      "Area of the circle is  10.825317547305483\n"
     ]
    }
   ],
   "source": [
    "#Answer for question 1\n",
    "import math\n",
    "side = float(input(\"Enter the side of the equilateral triangle: \"))\n",
    "area = ((math.sqrt(3))/4)*pow(side,2)\n",
    "print(\"Area of the circle is \",area)"
   ]
  },
  {
   "cell_type": "markdown",
   "metadata": {
    "id": "TjVKjIfclrTB"
   },
   "source": [
    "## 2. Write a program to count the number of each characters in a string"
   ]
  },
  {
   "cell_type": "code",
   "execution_count": 2,
   "metadata": {
    "id": "JY5seVUQlrTC"
   },
   "outputs": [
    {
     "name": "stdout",
     "output_type": "stream",
     "text": [
      "Enter the string: Q and A activity student file\n",
      "Character List: [' ', 'e', 'v', 'i', 'a', 'y', 'n', 'Q', 'u', 'c', 'l', 's', 't', 'f', 'd', 'A']\n",
      "Count of each characters \n",
      "  = 5\n",
      "e = 2\n",
      "v = 1\n",
      "i = 3\n",
      "a = 2\n",
      "y = 1\n",
      "n = 2\n",
      "Q = 1\n",
      "u = 1\n",
      "c = 1\n",
      "l = 1\n",
      "s = 1\n",
      "t = 4\n",
      "f = 1\n",
      "d = 2\n",
      "A = 1\n"
     ]
    }
   ],
   "source": [
    "st=input(\"Enter the string: \")\n",
    "l=list(set(st))\n",
    "print(\"Character List:\",l)\n",
    "print(\"Count of each characters \")\n",
    "for i in range(len(l)):\n",
    "    print(l[i],\"=\",st.count(l[i]))"
   ]
  },
  {
   "cell_type": "markdown",
   "metadata": {
    "id": "l3LCULfklrTD"
   },
   "source": [
    "## Write a program to find the area and perimeter of a rectangle using functions"
   ]
  },
  {
   "cell_type": "code",
   "execution_count": 3,
   "metadata": {
    "id": "8haQD8edlrTD"
   },
   "outputs": [
    {
     "name": "stdout",
     "output_type": "stream",
     "text": [
      "Enter the length of the rectangle: 5\n",
      "Enter the breadth of the rectangle: 3\n",
      "Area of the rectangle is:  15.0\n",
      "Perimeter of the rectangle is:  16.0\n"
     ]
    }
   ],
   "source": [
    "def area(a,b):\n",
    "    return a*b\n",
    "def perimeter(a,b):\n",
    "    return 2*(a+b)\n",
    "length=float(input(\"Enter the length of the rectangle: \"))\n",
    "breadth=float(input(\"Enter the breadth of the rectangle: \"))\n",
    "print(\"Area of the rectangle is: \",area(length,breadth))\n",
    "print(\"Perimeter of the rectangle is: \",perimeter(length,breadth))"
   ]
  },
  {
   "cell_type": "markdown",
   "metadata": {
    "id": "JHK4ZdsflrTE"
   },
   "source": [
    "## 4. Write a program to print the fibonacci series till a specified number"
   ]
  },
  {
   "cell_type": "code",
   "execution_count": 5,
   "metadata": {
    "id": "LyBEj-4SlrTE"
   },
   "outputs": [
    {
     "name": "stdout",
     "output_type": "stream",
     "text": [
      "Enter the limit: 37\n",
      "Fibonacci series upto  37\n",
      "0\n",
      "1\n",
      "1\n",
      "2\n",
      "3\n",
      "5\n",
      "8\n",
      "13\n",
      "21\n",
      "34\n"
     ]
    }
   ],
   "source": [
    "def fib(n):\n",
    "    a=0\n",
    "    b=1\n",
    "    while(a<n):\n",
    "        print(a)\n",
    "        a,b=b,a+b\n",
    "num=int(input(\"Enter the limit: \"))\n",
    "print(\"Fibonacci series upto \",num)\n",
    "fib(num)"
   ]
  },
  {
   "cell_type": "markdown",
   "metadata": {
    "id": "u4uBUcQKlrTE"
   },
   "source": [
    "## 5. Complete the following code to find the minimum of 3 number using cinditional statements. Output should be as displayed"
   ]
  },
  {
   "cell_type": "code",
   "execution_count": null,
   "metadata": {
    "id": "XdZwrZjIlrTF"
   },
   "outputs": [],
   "source": [
    "a,b,c = input(\"Enter three numbers followed by  : \").split()\n",
    "\n",
    "print(\"First number :\",a)\n",
    "print(\"Second number :\",b)\n",
    "print(\"Third number :\",c)\n",
    "\n",
    "    print(\"Entered numbers are equal!!!\")\n",
    "\n",
    "    print(a,\" is smallest\")\n",
    "\n",
    "    print(b,\" is smallest\")\n",
    "\n",
    "    print(c,\" is smallest\")"
   ]
  },
  {
   "cell_type": "code",
   "execution_count": 23,
   "metadata": {},
   "outputs": [
    {
     "name": "stdout",
     "output_type": "stream",
     "text": [
      "Enter three numbers followed by  : 593 5 23\n",
      "First number : 593\n",
      "Second number : 5\n",
      "Third number : 23\n",
      "5  is the smallest\n"
     ]
    }
   ],
   "source": [
    "#Answer for question 5\n",
    "a,b,c = input(\"Enter three numbers followed by  : \").split()\n",
    "a=int(a)\n",
    "b=int(b)\n",
    "c=int(c)\n",
    "print(\"First number :\",a)\n",
    "print(\"Second number :\",b)\n",
    "print(\"Third number :\",c)\n",
    "if(a==b and b==c):\n",
    "    print(\"Entered numbers are equal!!!\")\n",
    "elif(a<b and a<c):\n",
    "    print(a,\" is the smallest\")\n",
    "elif(b<c and b<a):\n",
    "    print(b,\" is the smallest\")\n",
    "else:\n",
    "    print(c,\" is the smallest\")"
   ]
  },
  {
   "cell_type": "markdown",
   "metadata": {
    "id": "aR_CnToWlrTG"
   },
   "source": [
    "## 6. Write a program to print star pyramind. The number of rows should be taken as input from the user"
   ]
  },
  {
   "cell_type": "code",
   "execution_count": 24,
   "metadata": {
    "id": "M37A-buplrTG"
   },
   "outputs": [
    {
     "name": "stdout",
     "output_type": "stream",
     "text": [
      "Enter the number of rows: 5\n",
      "    * \n",
      "   * * \n",
      "  * * * \n",
      " * * * * \n",
      "* * * * * \n"
     ]
    }
   ],
   "source": [
    "n=int(input(\"Enter the number of rows: \"))\n",
    "for i in range(n):\n",
    "    for j in range(n-i-1):\n",
    "        print(\" \",end=\"\")\n",
    "    for j in range(i+1):\n",
    "        print(\"*\",end=\" \")\n",
    "    print()"
   ]
  },
  {
   "cell_type": "markdown",
   "metadata": {
    "id": "tlY6aFWBlrTH"
   },
   "source": [
    "## 7. Complete the following code to convert hour into seconds. Output should be as displayed"
   ]
  },
  {
   "cell_type": "code",
   "execution_count": 25,
   "metadata": {
    "id": "YOZQFk7FlrTH"
   },
   "outputs": [
    {
     "name": "stdout",
     "output_type": "stream",
     "text": [
      "Enter the time in hours: 3.5\n",
      "3.5  Hour is equal to 12600.0  Seconds\n"
     ]
    }
   ],
   "source": [
    "def to_seconds(t):\n",
    "    t=t*60*60\n",
    "    return t\n",
    "time_in_hours =float(input(\"Enter the time in hours: \")) \n",
    "print(time_in_hours ,\" Hour is equal to\" ,to_seconds(time_in_hours) ,\" Seconds\")"
   ]
  },
  {
   "cell_type": "markdown",
   "metadata": {
    "id": "CnYorNiLlrTI"
   },
   "source": [
    "## 8. Write a program to print multiplication table as below"
   ]
  },
  {
   "cell_type": "code",
   "execution_count": 26,
   "metadata": {
    "id": "dPQqDPuDlrTI"
   },
   "outputs": [
    {
     "name": "stdout",
     "output_type": "stream",
     "text": [
      "Enter the number whose multiplication table is to be displayed : 6\n",
      "Multiplication table for  6\n",
      "6 * 1 = 6\n",
      "6 * 2 = 12\n",
      "6 * 3 = 18\n",
      "6 * 4 = 24\n",
      "6 * 5 = 30\n",
      "6 * 6 = 36\n",
      "6 * 7 = 42\n",
      "6 * 8 = 48\n",
      "6 * 9 = 54\n",
      "6 * 10 = 60\n"
     ]
    }
   ],
   "source": [
    "num=int(input(\"Enter the number whose multiplication table is to be displayed : \"))\n",
    "print(\"Multiplication table for \",num)\n",
    "for i in range(1,11):\n",
    "    print(num,\"*\",i,\"=\",num*i)\n"
   ]
  },
  {
   "cell_type": "markdown",
   "metadata": {
    "id": "Fiaez8iblrTI"
   },
   "source": [
    "## 9. Write a program to take your 5 favorite food as list and print each as 'I like Biriyani'"
   ]
  },
  {
   "cell_type": "code",
   "execution_count": 27,
   "metadata": {
    "id": "39W1zFX7lrTJ"
   },
   "outputs": [
    {
     "name": "stdout",
     "output_type": "stream",
     "text": [
      "Enter your favorite food 1 Biriyani\n",
      "Enter your favorite food 2 Ice cream\n",
      "Enter your favorite food 3 Chicken\n",
      "Enter your favorite food 4 Chapati\n",
      "Enter your favorite food 5 Masala Dosa\n",
      "I like  Biriyani\n",
      "I like  Ice cream\n",
      "I like  Chicken\n",
      "I like  Chapati\n",
      "I like  Masala Dosa\n"
     ]
    }
   ],
   "source": [
    "i=0\n",
    "li=[]\n",
    "for i in (range(0,5)):\n",
    "    food=input(\"Enter your favorite food \"+str(i+1)+\" \")\n",
    "    li.append(food)\n",
    "for foods in li:\n",
    "    print(\"I like \",foods)"
   ]
  },
  {
   "cell_type": "markdown",
   "metadata": {
    "id": "3vlcDNNEP7d_"
   },
   "source": [
    "## 10. Find error(s) in the following code(if any) and rewrite code.\n",
    "\n"
   ]
  },
  {
   "cell_type": "code",
   "execution_count": null,
   "metadata": {
    "id": "coREkcY3P9sG"
   },
   "outputs": [],
   "source": [
    "x= int(“Enter value of x:”)\n",
    "for in range [0,10]:\n",
    "     if x=y\n",
    "          print(\"They are equal\")\n",
    "     else:\n",
    "         Print( \"They are unequal\")"
   ]
  },
  {
   "cell_type": "code",
   "execution_count": 28,
   "metadata": {},
   "outputs": [
    {
     "name": "stdout",
     "output_type": "stream",
     "text": [
      "Enter value of x:6\n",
      "6  and  0  are unequal\n",
      "6  and  1  are unequal\n",
      "6  and  2  are unequal\n",
      "6  and  3  are unequal\n",
      "6  and  4  are unequal\n",
      "6  and  5  are unequal\n",
      "6  and  6  are equal\n",
      "6  and  7  are unequal\n",
      "6  and  8  are unequal\n",
      "6  and  9  are unequal\n"
     ]
    }
   ],
   "source": [
    "#Answer for question 10\n",
    "x= int(input(\"Enter value of x:\"))\n",
    "for y in range (0,10):\n",
    "    if x==y:\n",
    "        print(x,\" and \",y,\" are equal\")\n",
    "    else:\n",
    "        print(x,\" and \",y,\" are unequal\")"
   ]
  },
  {
   "cell_type": "code",
   "execution_count": null,
   "metadata": {},
   "outputs": [],
   "source": []
  }
 ],
 "metadata": {
  "colab": {
   "collapsed_sections": [],
   "name": "Q&A activity student file.ipynb",
   "provenance": []
  },
  "kernelspec": {
   "display_name": "Python 3",
   "language": "python",
   "name": "python3"
  },
  "language_info": {
   "codemirror_mode": {
    "name": "ipython",
    "version": 3
   },
   "file_extension": ".py",
   "mimetype": "text/x-python",
   "name": "python",
   "nbconvert_exporter": "python",
   "pygments_lexer": "ipython3",
   "version": "3.8.5"
  }
 },
 "nbformat": 4,
 "nbformat_minor": 1
}
